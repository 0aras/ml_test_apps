{
 "cells": [
  {
   "cell_type": "code",
   "execution_count": null,
   "metadata": {},
   "outputs": [],
   "source": [
    "import time\n",
    "import pandas as pd\n",
    "import nltk as nltk\n",
    "from nltk.corpus import stopwords\n",
    "from nltk.sentiment.vader import SentimentIntensityAnalyzer\n",
    "nltk.download('vader_lexicon')\n",
    "nltk.download('stopwords')\n",
    "\n",
    "\n",
    "df=pd.read_csv('C:/Users/55555/Desktop/Android PRJ/ML PRJ/Hotels_filtered_reviews.csv')"
   ]
  },
  {
   "cell_type": "code",
   "execution_count": 14,
   "metadata": {},
   "outputs": [],
   "source": [
    "vader_sentiment=SentimentIntensityAnalyzer()\n"
   ]
  },
  {
   "cell_type": "code",
   "execution_count": 19,
   "metadata": {},
   "outputs": [],
   "source": [
    "def calc_sentiment(review):\n",
    "    if review==\"No Positive\" or review==\"No Negative\":\n",
    "        return 0\n",
    "    return vader_sentiment.polarity_scores(review)[\"compound\"]\n",
    "    "
   ]
  },
  {
   "cell_type": "code",
   "execution_count": null,
   "metadata": {},
   "outputs": [],
   "source": []
  },
  {
   "cell_type": "code",
   "execution_count": 20,
   "metadata": {},
   "outputs": [],
   "source": [
    "start=time.time()\n",
    "cache=set(stopwords.words(\"english\"))\n",
    "def remove_stopwords(review):\n",
    "    text=\" \".join([word for word in review.split() if word not in cache])\n",
    "    return text"
   ]
  },
  {
   "cell_type": "code",
   "execution_count": null,
   "metadata": {},
   "outputs": [],
   "source": [
    "df.Negative_Review=df.Negative_Review.apply(remove_stopwords)\n",
    "df.Positive_Review=df.Positive_Review.apply(remove_stopwords)\n",
    "end=time.time()\n",
    "print(\"Stopwords ayırma işlemi \"+ str(round(end-start,2))+ \" saniye sürdü\")\n"
   ]
  },
  {
   "cell_type": "code",
   "execution_count": null,
   "metadata": {},
   "outputs": [],
   "source": [
    "print(\"Olumlu ve Olumsuz yorumların duygu analizi yapılıyor\")\n",
    "start=time.time()\n",
    "df[\"Negative_Sentiments\"]=df.Negative_Review.apply(calc_sentiment)\n",
    "df[\"Positive_Sentiments\"]=df.Positive_Review.apply(calc_sentiment)\n",
    "\n",
    "end=time.time()\n",
    "\n",
    "print(\"Duygu analizi \"+ str(round(end-start,2))+ \" saniye sürdü\")"
   ]
  },
  {
   "cell_type": "code",
   "execution_count": null,
   "metadata": {},
   "outputs": [],
   "source": [
    "df=df.sort_values(by=[\"Negative_Sentiments\"], ascending=True)\n",
    "print(df[[\"Negative_Review\", \"Negative_Sentiments\"]])\n",
    "\n",
    "df=df.sort_values(by=[\"Positive_Sentiments\"], ascending=True)\n",
    "print(df[[\"Positive_Review\",\"Positive_Sentiments\"]])"
   ]
  },
  {
   "cell_type": "code",
   "execution_count": null,
   "metadata": {},
   "outputs": [],
   "source": [
    "df = df.reindex([\"Hotel_Name\", \"Hotel_Address\", \"Total_Number_of_Reviews\", \"Average_Score\", \"Reviewer_Score\", \"Negative_Sentiment\", \"Positive_Sentiment\", \"Reviewer_Nationality\", \"Leisure_trip\", \"Couple\", \"Solo_traveler\", \"Business_trip\", \"Group\", \"Family_with_young_children\", \"Family_with_older_children\", \"With_a_pet\", \"Negative_Review\", \"Positive_Review\"], axis=1)\n",
    "\n",
    "print(\"Sonuçlar Hotel_Reviews_NLP dosyası olarak oluşturuluyor\")\n",
    "df.to_csv('C:/Users/55555/Desktop/Android PRJ/ML PRJ/Hotel_Reviews_NLP.csv')"
   ]
  }
 ],
 "metadata": {
  "kernelspec": {
   "display_name": "Python 3",
   "language": "python",
   "name": "python3"
  },
  "language_info": {
   "codemirror_mode": {
    "name": "ipython",
    "version": 3
   },
   "file_extension": ".py",
   "mimetype": "text/x-python",
   "name": "python",
   "nbconvert_exporter": "python",
   "pygments_lexer": "ipython3",
   "version": "3.11.9"
  }
 },
 "nbformat": 4,
 "nbformat_minor": 2
}
