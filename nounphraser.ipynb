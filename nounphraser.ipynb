{
 "cells": [
  {
   "cell_type": "code",
   "execution_count": null,
   "metadata": {},
   "outputs": [],
   "source": [
    "import random\n",
    "from textblob import TextBlob\n",
    "from textblob.np_extractors import ConllExtractor\n",
    "extractor= ConllExtractor()\n",
    "\n",
    "\n",
    "negatif_cevap=[\"üzücü, biraz daha detay verirmisin\",\n",
    "\"can sıkıcı bir durum bence biraz daha anlatırmısın\",\n",
    "\"bu seni üzdümü? biraz moralin bozulmuş gibi\"]\n",
    "\n",
    "notr_cevap=[\"ilginç, sonra ne oldu?\",\n",
    " \"sence de normal bir durum değil mi bu\",\n",
    " \"pekala, başka detaylar var mı\"]\n",
    "\n",
    "pozitif_cevap=[\"güzel, başka anlatacakların varmı\",\n",
    "\"iyi bir şey bence sen ne düşünüyorsun\",\n",
    "\"pozitif bir durum değil mi\"]\n",
    "\n",
    "iyi_cevap=[\"harika başka neler var\",\n",
    "\"çok sevindim sen ne düşünüyorsun\",\n",
    "\"mükemmel değil mi\"]\n",
    "print(\"merhaba benim ismim isot, basit bir robotum\")\n",
    "print (\"bu konuşmayi 'bye' yazarak bitirebilirsin\")\n",
    "print (\"her cavaptan sonra enter a basin\")\n",
    "print(\"Nasilsin\")\n",
    "\n",
    "while True:\n",
    "    \n",
    "    user_input = input(\"> \")\n",
    "    if user_input.lower()==\"bye\":\n",
    "        break\n",
    "    else: \n",
    "       user_input_blob = TextBlob(user_input, np_extractor=extractor)                        \n",
    "       np = user_input_blob.noun_phrases   \n",
    "       cevap= \"\"\n",
    "    if user_input_blob.polarity<=-0.5:\n",
    "        cevap=random.choices(negatif_cevap)[0]\n",
    "    elif user_input_blob.polarity<=0:\n",
    "        cevap=random.choices(notr_cevap)[0]\n",
    "    elif user_input_blob.polarity<0.5:\n",
    "        cevap=random.choices(pozitif_cevap)[0]\n",
    "    elif user_input_blob.polarity<=1:\n",
    "        cevap=random.choices(iyi_cevap)[0]\n",
    "\n",
    "\n",
    "    if len(np)!=0:\n",
    "        cevap=cevap+\" başka ne anlatabilirsin \"+ np[0].pluralize()+ \"hakkında?\"\n",
    "    else:\n",
    "        cevap=cevap+\"\"\n",
    "    print(cevap)\n",
    "\n",
    "print(\"güzel sohbetti hoşçakal\")\n"
   ]
  }
 ],
 "metadata": {
  "kernelspec": {
   "display_name": "Python 3",
   "language": "python",
   "name": "python3"
  },
  "language_info": {
   "codemirror_mode": {
    "name": "ipython",
    "version": 3
   },
   "file_extension": ".py",
   "mimetype": "text/x-python",
   "name": "python",
   "nbconvert_exporter": "python",
   "pygments_lexer": "ipython3",
   "version": "3.11.9"
  }
 },
 "nbformat": 4,
 "nbformat_minor": 2
}
