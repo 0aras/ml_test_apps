{
  "nbformat": 4,
  "nbformat_minor": 0,
  "metadata": {
    "colab": {
      "provenance": [],
      "authorship_tag": "ABX9TyPee8s5pw7ZIciWgdjXz/K8",
      "include_colab_link": true
    },
    "kernelspec": {
      "name": "python3",
      "display_name": "Python 3"
    },
    "language_info": {
      "name": "python"
    }
  },
  "cells": [
    {
      "cell_type": "markdown",
      "metadata": {
        "id": "view-in-github",
        "colab_type": "text"
      },
      "source": [
        "<a href=\"https://colab.research.google.com/github/0aras/ml_test_apps/blob/main/Exercise.ipynb\" target=\"_parent\"><img src=\"https://colab.research.google.com/assets/colab-badge.svg\" alt=\"Open In Colab\"/></a>"
      ]
    },
    {
      "cell_type": "code",
      "execution_count": 3,
      "metadata": {
        "id": "_LjhytxmamYo"
      },
      "outputs": [],
      "source": [
        "import torch\n",
        "import numpy as np\n",
        "import pandas as pd\n",
        "from torch import nn\n",
        "import matplotlib.pyplot as plt"
      ]
    },
    {
      "cell_type": "code",
      "source": [
        "device=\"cuda\" if torch.cuda.is_available() else \"cpu\"\n"
      ],
      "metadata": {
        "id": "lLGnBY-ebBgD"
      },
      "execution_count": 4,
      "outputs": []
    },
    {
      "cell_type": "code",
      "source": [
        "weight=0.3\n",
        "bias=0.9\n",
        "\n",
        "start=0\n",
        "end=1\n",
        "step=0.01\n",
        "\n",
        "X=torch.arange(start,end,step).unsqueeze(dim=1)\n",
        "y=weight*X+bias"
      ],
      "metadata": {
        "id": "3ngqX72ibTtZ"
      },
      "execution_count": 18,
      "outputs": []
    },
    {
      "cell_type": "code",
      "source": [
        "train_split=int(0.8*len(X))\n",
        "\n",
        "X_train, y_train= X[:train_split], y[:train_split]\n",
        "X_test,y_test=X[train_split:],y[train_split:]\n",
        "\n",
        "len(X_train), len(y_train),len(X_test),len(y_test)"
      ],
      "metadata": {
        "colab": {
          "base_uri": "https://localhost:8080/"
        },
        "id": "UsA4igLpcjML",
        "outputId": "f04a491f-9e1c-40a1-f13d-9948af065176"
      },
      "execution_count": 31,
      "outputs": [
        {
          "output_type": "execute_result",
          "data": {
            "text/plain": [
              "(80, 80, 20, 20)"
            ]
          },
          "metadata": {},
          "execution_count": 31
        }
      ]
    },
    {
      "cell_type": "code",
      "source": [
        "def plot_tahminet(train_data=X_train,\n",
        "                 train_labels=y_train,\n",
        "                 test_data=X_test,\n",
        "                 test_label=y_test,\n",
        "                 tahmin=None):\n",
        "  plt.figure(figsize=(8,5))\n",
        "  plt.scatter(train_data,train_labels, c=\"b\",s=4, label=\"Training data\")\n",
        "  plt.scatter(test_data,test_label,c=\"y\",s=4,label=\"Test Data\")\n",
        "  if tahmin is not None:\n",
        "    plt.scatter(test_data,tahmin,c=\"r\",s=4,label=\"Tahminler\")\n",
        "  plt.legend(prop={\"size\": 8});\n"
      ],
      "metadata": {
        "id": "dxufRvRSd2Ei"
      },
      "execution_count": 32,
      "outputs": []
    },
    {
      "cell_type": "code",
      "source": [
        "plot_tahminet(X_train, y_train, X_test, y_test)"
      ],
      "metadata": {
        "colab": {
          "base_uri": "https://localhost:8080/",
          "height": 445
        },
        "id": "0GPMUHsSf4zL",
        "outputId": "b3fd96eb-0749-4aa2-b1f3-977be9bb2209"
      },
      "execution_count": 33,
      "outputs": [
        {
          "output_type": "display_data",
          "data": {
            "text/plain": [
              "<Figure size 800x500 with 1 Axes>"
            ],
            "image/png": "[encoded data removed]"
          },
          "metadata": {}
        }
      ]
    },
    {
      "cell_type": "code",
      "source": [
        "class LineaRegressionModel3(nn.Module):\n",
        "  def __init__(self):\n",
        "   super().__init__()\n",
        "   self.linear_layer=nn.Linear(in_features=1,\n",
        "                              out_features=1)\n",
        "\n",
        "  def forward(self,x:torch.Tensor)->torch.Tensor:\n",
        "    return self.linear_layer(x)"
      ],
      "metadata": {
        "id": "U1Je6Hr_iNmF"
      },
      "execution_count": 36,
      "outputs": []
    },
    {
      "cell_type": "code",
      "source": [
        "torch.manual_seed(42)\n",
        "model_3=LineaRegressionModel3()\n",
        "model_3.state_dict()"
      ],
      "metadata": {
        "colab": {
          "base_uri": "https://localhost:8080/"
        },
        "id": "6BUh-H_xjXek",
        "outputId": "bce7694d-ecf6-48dd-f40f-44cefd0a6fd4"
      },
      "execution_count": 37,
      "outputs": [
        {
          "output_type": "execute_result",
          "data": {
            "text/plain": [
              "OrderedDict([('linear_layer.weight', tensor([[0.7645]])),\n",
              "             ('linear_layer.bias', tensor([0.8300]))])"
            ]
          },
          "metadata": {},
          "execution_count": 37
        }
      ]
    },
    {
      "cell_type": "code",
      "source": [
        "loss_fn=nn.L1Loss()\n",
        "optimizer=torch.optim.SGD(params=model_3.parameters(),lr=0.001)\n"
      ],
      "metadata": {
        "id": "A9IiMakEkBI0"
      },
      "execution_count": 47,
      "outputs": []
    },
    {
      "cell_type": "code",
      "source": [
        "epochs=200\n",
        "for epoch in range(epochs):\n",
        "  #SET UP TRAIN\n",
        "  model_3.train()\n",
        "\n",
        "  #FORWARD PASS\n",
        "  y_pred=model_3(X_train)\n",
        "\n",
        "  #LOSS\n",
        "  loss=loss_fn(y_pred,y_train)\n",
        "\n",
        "  #OPTIMIZER\n",
        "  optimizer.zero_grad()\n",
        "\n",
        "  #BACK\n",
        "  loss.backward()\n",
        "\n",
        "  #STEP\n",
        "  optimizer.step()\n",
        "\n",
        "  model_3.eval()\n",
        "\n",
        "  with torch.inference_mode():\n",
        "    test_pred=model_3(X_test)\n",
        "    test_loss=loss_fn(test_pred, y_test)\n",
        "    if epoch%20==0:\n",
        "      print(f\"Epoch.: {epoch}| Loss: {loss}| Test Loss: {test_loss} \")\n"
      ],
      "metadata": {
        "colab": {
          "base_uri": "https://localhost:8080/"
        },
        "id": "MoZBz6MrkllJ",
        "outputId": "1196e919-efd9-48ae-c605-85ba1c5ef08b"
      },
      "execution_count": 49,
      "outputs": [
        {
          "output_type": "stream",
          "name": "stdout",
          "text": [
            "Epoch.: 0| Loss: 0.009925423189997673| Test Loss: 0.02340395376086235 \n",
            "Epoch.: 20| Loss: 0.009240338578820229| Test Loss: 0.021770983934402466 \n",
            "Epoch.: 40| Loss: 0.008555257692933083| Test Loss: 0.020138025283813477 \n",
            "Epoch.: 60| Loss: 0.007870079949498177| Test Loss: 0.018539423123002052 \n",
            "Epoch.: 80| Loss: 0.007184995803982019| Test Loss: 0.016906458884477615 \n",
            "Epoch.: 100| Loss: 0.006499911192804575| Test Loss: 0.015273493714630604 \n",
            "Epoch.: 120| Loss: 0.005814775824546814| Test Loss: 0.013657731004059315 \n",
            "Epoch.: 140| Loss: 0.005129595752805471| Test Loss: 0.012059146538376808 \n",
            "Epoch.: 160| Loss: 0.004444506950676441| Test Loss: 0.010426181368529797 \n",
            "Epoch.: 180| Loss: 0.0037594251334667206| Test Loss: 0.008793199434876442 \n"
          ]
        }
      ]
    },
    {
      "cell_type": "code",
      "source": [
        "with torch.inference_mode():\n",
        "  y_preds=model_3(X_test)\n",
        "y_preds"
      ],
      "metadata": {
        "colab": {
          "base_uri": "https://localhost:8080/"
        },
        "id": "4BfrJG7en5YF",
        "outputId": "b30a00e7-0c53-494e-a167-d9931ac17c16"
      },
      "execution_count": 50,
      "outputs": [
        {
          "output_type": "execute_result",
          "data": {
            "text/plain": [
              "tensor([[1.1458],\n",
              "        [1.1490],\n",
              "        [1.1521],\n",
              "        [1.1553],\n",
              "        [1.1584],\n",
              "        [1.1616],\n",
              "        [1.1647],\n",
              "        [1.1679],\n",
              "        [1.1710],\n",
              "        [1.1742],\n",
              "        [1.1773],\n",
              "        [1.1805],\n",
              "        [1.1837],\n",
              "        [1.1868],\n",
              "        [1.1900],\n",
              "        [1.1931],\n",
              "        [1.1963],\n",
              "        [1.1994],\n",
              "        [1.2026],\n",
              "        [1.2057]])"
            ]
          },
          "metadata": {},
          "execution_count": 50
        }
      ]
    },
    {
      "cell_type": "code",
      "source": [
        "plot_tahminet(tahmin=y_preds,)"
      ],
      "metadata": {
        "colab": {
          "base_uri": "https://localhost:8080/",
          "height": 445
        },
        "id": "hLbiCo51oI6j",
        "outputId": "beb97c76-827e-4fe4-c146-9736e8e02677"
      },
      "execution_count": 51,
      "outputs": [
        {
          "output_type": "display_data",
          "data": {
            "text/plain": [
              "<Figure size 800x500 with 1 Axes>"
            ],
            "image/png": "[encoded data removed]"
          },
          "metadata": {}
        }
      ]
    }
  ]
}