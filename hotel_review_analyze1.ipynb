{
 "cells": [
  {
   "cell_type": "code",
   "execution_count": 8,
   "metadata": {},
   "outputs": [],
   "source": [
    "import pandas as pd \n",
    "import time\n"
   ]
  },
  {
   "cell_type": "code",
   "execution_count": null,
   "metadata": {},
   "outputs": [],
   "source": [
    "print(\"dosya indiriliyor biraz zaman alabilir\")\n",
    "start=time.time()\n",
    "\n",
    "df=pd.read_csv('C:/Users/55555/Desktop/Android PRJ/ML PRJ/hotel_reviews.csv')\n",
    "end=time.time()\n",
    "\n",
    "print(\"yüklenme süresi \" + str(round(end-start,2)) + \" saniye\")\n"
   ]
  },
  {
   "cell_type": "code",
   "execution_count": null,
   "metadata": {},
   "outputs": [],
   "source": [
    "print(\"data frame özellikleri; satır ve sütun \" + str(df.shape))"
   ]
  },
  {
   "cell_type": "code",
   "execution_count": null,
   "metadata": {},
   "outputs": [],
   "source": [
    "nationality_freq=df[\"Reviewer_Nationality\"].value_counts()\n",
    "print(str(nationality_freq.size)+   \" adet ülkeden yorum var\" )\n",
    "print(nationality_freq[1:11])"
   ]
  },
  {
   "cell_type": "code",
   "execution_count": null,
   "metadata": {},
   "outputs": [],
   "source": [
    "hotel_freq_df=df.drop([\"Hotel_Address\",\"Additional_Number_of_Scoring\",\"Review_Date\",\n",
    "\"Average_Score\",\"Reviewer_Nationality\",\"Negative_Review\",\"Review_Total_Negative_Word_Counts\",\n",
    "\"Positive_Review\",\"Review_Total_Positive_Word_Counts\",\"Total_Number_of_Reviews_Reviewer_Has_Given\",\n",
    "\"Reviewer_Score\",\"Tags\",\"days_since_review\",\"lat\",\"lng\"],axis=1)\n",
    "hotel_freq_df['Total_Reviews_Found']=hotel_freq_df.groupby('Hotel_Name').transform('count')\n",
    "\n",
    "hotel_freq_df=hotel_freq_df.drop_duplicates(subset=['Hotel_Name'])\n",
    "display(hotel_freq_df)"
   ]
  },
  {
   "cell_type": "code",
   "execution_count": null,
   "metadata": {},
   "outputs": [],
   "source": [
    "\n",
    "\n",
    "\n",
    "def get_difference_review_avg(row):\n",
    "    return row[\"Average_Score\"]- row[\"Calc_Average_Score\"]\n",
    "\n",
    "df['Calc_Average_Score']=round(df.groupby('Hotel_Name').Reviewer_Score.transform('mean'),1)\n",
    "\n",
    "df[\"Average_Score_Difference\"] = df.apply(get_difference_review_avg , axis = 1)\n",
    "\n",
    "review_scores_df=df.drop_duplicates(subset=[\"Hotel_Name\"])\n",
    "\n",
    "review_scores_df=review_scores_df.sort_values(by=[\"Average_Score_Difference\"])\n",
    "\n",
    "display(review_scores_df[[\"Average_Score_Difference\",\"Average_Score\",\"Calc_Average_Score\",\"Hotel_Name\"]])"
   ]
  },
  {
   "cell_type": "code",
   "execution_count": null,
   "metadata": {},
   "outputs": [],
   "source": [
    "start=time.time()\n",
    "no_negative_reviews=sum(df.Negative_Review==\"No Negative\")\n",
    "print(\"Negatif Yorum Almayan otellerin Sayısı: \"+  str(no_negative_reviews))\n",
    "no_pozitive_reviews=sum(df.Positive_Review==\"No Positive\")\n",
    "print(\"Pozitif Yorum Almayan otellerin Sayısı: \"+  str(no_pozitive_reviews))\n",
    "\n",
    "both_no_reviews=sum((df.Positive_Review==\"No Positive\" )&(df.Negative_Review==\"No Negative\"))\n",
    "print(\"Olumlu veya olumsuz değerlendirme almayan otellerin sayısı: \"+ str(both_no_reviews))\n",
    "end=time.time()\n",
    "\n",
    "print(\"hesaplama \"+ str(round(end-start,2))+ \" saniye sürdü\")\n"
   ]
  }
 ],
 "metadata": {
  "kernelspec": {
   "display_name": "Python 3",
   "language": "python",
   "name": "python3"
  },
  "language_info": {
   "codemirror_mode": {
    "name": "ipython",
    "version": 3
   },
   "file_extension": ".py",
   "mimetype": "text/x-python",
   "name": "python",
   "nbconvert_exporter": "python",
   "pygments_lexer": "ipython3",
   "version": "3.11.9"
  }
 },
 "nbformat": 4,
 "nbformat_minor": 2
}
